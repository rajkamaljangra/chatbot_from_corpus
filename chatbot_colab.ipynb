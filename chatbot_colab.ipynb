{
  "nbformat": 4,
  "nbformat_minor": 0,
  "metadata": {
    "colab": {
      "name": "Untitled0.ipynb",
      "provenance": [],
      "authorship_tag": "ABX9TyNx6vmSy4WMuPrXfbW+s3xK",
      "include_colab_link": true
    },
    "kernelspec": {
      "name": "python3",
      "display_name": "Python 3"
    },
    "language_info": {
      "name": "python"
    }
  },
  "cells": [
    {
      "cell_type": "markdown",
      "metadata": {
        "id": "view-in-github",
        "colab_type": "text"
      },
      "source": [
        "<a href=\"https://colab.research.google.com/github/rajkamaljangra/chatbot_from_corpus/blob/main/chatbot_colab.ipynb\" target=\"_parent\"><img src=\"https://colab.research.google.com/assets/colab-badge.svg\" alt=\"Open In Colab\"/></a>"
      ]
    },
    {
      "cell_type": "markdown",
      "source": [
        "**Import the required modules**"
      ],
      "metadata": {
        "id": "iJGs7Oooq6Yz"
      }
    },
    {
      "cell_type": "code",
      "execution_count": 1,
      "metadata": {
        "id": "0_4f7X9IqnRx"
      },
      "outputs": [],
      "source": [
        "import numpy as numpy\n",
        "import nltk\n",
        "import string\n",
        "import random"
      ]
    },
    {
      "cell_type": "markdown",
      "source": [
        "**Importing the corpus**"
      ],
      "metadata": {
        "id": "jFCqqrT8sdxT"
      }
    },
    {
      "cell_type": "code",
      "source": [
        "f=open('chatbot.txt','r', errors='ignore')\n",
        "raw_doc = f.read()\n",
        "raw_doc"
      ],
      "metadata": {
        "id": "_s6HsxDlrF-6"
      },
      "execution_count": null,
      "outputs": []
    },
    {
      "cell_type": "code",
      "source": [
        "raw_doc=raw_doc.lower()\n",
        "nltk.download('punkt')\n",
        "nltk.download('wordnet')\n",
        "sent_tokens = nltk.sent_tokenize(raw_doc)\n",
        "word_tokens = nltk.word_tokenize(raw_doc)\n",
        "\n"
      ],
      "metadata": {
        "id": "ZFd2JytDtvX5"
      },
      "execution_count": null,
      "outputs": []
    },
    {
      "cell_type": "markdown",
      "source": [
        "**Test preprocessing**"
      ],
      "metadata": {
        "id": "SVD7ArG4u211"
      }
    },
    {
      "cell_type": "code",
      "source": [
        "lemmer = nltk.stem.WordNetLemmatizer()\n",
        "def LemTokens(tokens):\n",
        "  return [lemmer.lemmatize(token) for token in tokens]\n",
        "\n",
        "remove_punch_dict = dict((ord(punct), None) for punct in string.punctuation)\n",
        "\n",
        "def LemNormalize(text):\n",
        "  return LemTokens(nltk.word_tokenize(text.lower().translate(remove_punch_dict)))\n"
      ],
      "metadata": {
        "id": "0s6vD1enunll"
      },
      "execution_count": 10,
      "outputs": []
    },
    {
      "cell_type": "markdown",
      "source": [
        "**Define Greetings**"
      ],
      "metadata": {
        "id": "VH2wBGwdv31L"
      }
    },
    {
      "cell_type": "code",
      "source": [
        "GREET_INPUTS = ('hello','hi','greetings','how are you','hey',)\n",
        "GREET_RESPONSES = ['hi','hey','*nods*', 'hi there', 'hello', 'i am glad talking to you']\n",
        "def greet(sentence):\n",
        "  for word in sentence.split():\n",
        "    if word.lower() in GREET_INPUTS:\n",
        "      return random.choice(GREET_RESPONSES)"
      ],
      "metadata": {
        "id": "EcatnTVjv9jo"
      },
      "execution_count": 11,
      "outputs": []
    },
    {
      "cell_type": "markdown",
      "source": [
        "**Response generation**"
      ],
      "metadata": {
        "id": "xrMoAog3xK6S"
      }
    },
    {
      "cell_type": "code",
      "source": [
        "from sklearn.feature_extraction.text import TfidfVectorizer\n",
        "from sklearn.metrics.pairwise import cosine_similarity\n",
        "\n",
        "def response(user_response):\n",
        "  robo1_response =''\n",
        "  TfidfVec = TfidfVectorizer(tokenizer=LemNormalize, stop_words = 'english')\n",
        "  tfidf = TfidfVec.fit_transform(sent_tokens)\n",
        "  vals = cosine_similarity(tfidf[-1],tfidf)\n",
        "  idx = vals.argsort()[0][-2]\n",
        "  flat= vals.flatten()\n",
        "  flat.sort()\n",
        "  req_tfidf = flat[-2]\n",
        "  if req_tfidf==0:\n",
        "    robo1_response = robo1_response + \"I am sorry, I donot understand you\"\n",
        "    return robo1_response\n",
        "  else:\n",
        "    robo1_response = robo1_response + sent_tokens[idx]\n",
        "    return robo1_response"
      ],
      "metadata": {
        "id": "g1PIvMdrxPKA"
      },
      "execution_count": 15,
      "outputs": []
    },
    {
      "cell_type": "markdown",
      "source": [
        "**Define chat start and end conditions**"
      ],
      "metadata": {
        "id": "9-M6ZxyszcD3"
      }
    },
    {
      "cell_type": "code",
      "source": [
        "flag = True\n",
        "print(\"BOT: My name is RKJBot, ask me any question. To exit at any time, just type Bye!\")"
      ],
      "metadata": {
        "id": "W-UkmHfYzmAn"
      },
      "execution_count": null,
      "outputs": []
    }
  ]
}